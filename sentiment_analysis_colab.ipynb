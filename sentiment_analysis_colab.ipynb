{
 "cells": [
  {
   "cell_type": "markdown",
   "id": "952c343d",
   "metadata": {},
   "source": [
    "# Análise de Sentimentos com Tweets\n",
    "\n",
    "Este notebook realiza a análise de sentimentos em textos do Twitter usando `spaCy` e `spacytextblob`."
   ]
  },
  {
   "cell_type": "markdown",
   "id": "1fb45d41",
   "metadata": {},
   "source": [
    "## Passo 1: Instalando as bibliotecas e recarregando o ambiente"
   ]
  },
  {
   "cell_type": "code",
   "execution_count": null,
   "id": "2f2df2ef",
   "metadata": {},
   "outputs": [],
   "source": [
    "!pip install -U pip setuptools wheel\n",
    "!pip install -U spacy\n",
    "!python -m spacy download en_core_web_sm\n",
    "!pip install spacytextblob\n",
    "\n",
    "import pkg_resources, imp\n",
    "imp.reload(pkg_resources)"
   ]
  },
  {
   "cell_type": "markdown",
   "id": "b13dd29e",
   "metadata": {},
   "source": [
    "## Passo 2: Importando as bibliotecas para análise de sentimento"
   ]
  },
  {
   "cell_type": "code",
   "execution_count": null,
   "id": "d50351a7",
   "metadata": {},
   "outputs": [],
   "source": [
    "import spacy\n",
    "from spacytextblob.spacytextblob import SpacyTextBlob"
   ]
  },
  {
   "cell_type": "markdown",
   "id": "93b4aabd",
   "metadata": {},
   "source": [
    "## Passo 3: Definindo o modelo e a pipeline a serem utilizadas na análise"
   ]
  },
  {
   "cell_type": "code",
   "execution_count": null,
   "id": "aa7bbbc2",
   "metadata": {},
   "outputs": [],
   "source": [
    "nlp = spacy.load('en_core_web_sm')\n",
    "nlp.add_pipe('spacytextblob')"
   ]
  },
  {
   "cell_type": "markdown",
   "id": "446ed548",
   "metadata": {},
   "source": [
    "## Passo 4: Definindo o texto inicial a ser analisado"
   ]
  },
  {
   "cell_type": "code",
   "execution_count": null,
   "id": "b29e1670",
   "metadata": {},
   "outputs": [],
   "source": [
    "user_input = 'This is a wonderful campsite. I loved the serenity and the birds chirping in the morning.'\n",
    "doc = nlp(user_input)"
   ]
  },
  {
   "cell_type": "markdown",
   "id": "a3e666e7",
   "metadata": {},
   "source": [
    "## Passo 5: Exibindo o resultado da primeira análise\n",
    "Intervalo: -1 (negativo) a 1 (positivo)"
   ]
  },
  {
   "cell_type": "code",
   "execution_count": null,
   "id": "47f9ee39",
   "metadata": {},
   "outputs": [],
   "source": [
    "input_polarity = doc._.blob.polarity\n",
    "sentiment = {\n",
    "    'score': input_polarity\n",
    "}\n",
    "print(sentiment)"
   ]
  },
  {
   "cell_type": "markdown",
   "id": "57a43f82",
   "metadata": {},
   "source": [
    "## Passo 6: Definindo a lista de tweets a serem analisadas"
   ]
  },
  {
   "cell_type": "code",
   "execution_count": null,
   "id": "ed9d705e",
   "metadata": {},
   "outputs": [],
   "source": [
    "tweets = [\n",
    "    \"Bayer Leverkusen goalkeeper Bernd Leno will not be going to Napoli. His agent Uli Ferber to Bild: I can confirm that there were negotiations with Napoli, which we have broken off. Napoli is not an option. Atletico Madrid and Arsenal are the other strong rumours. #B04 #AFC\",\n",
    "    \"Gary Speed v Blackburn at St James in 2001/02 anyone? #NUFC #BEL #JAP#WorldCup\",\n",
    "    \"@ChelseaFC Don't make him regret it and start him over Hoofiz\",\n",
    "    \"@LiverpoolFF @AnfieldEdition He's a liar, made up. I've unfollowed him as loads of others have. Pure blagger. #LFC\",\n",
    "    \"@theesk @Everton Didn't realise Kenwright is due to leave at the end of the month. In all seriousness could you see him being interested in us?\",\n",
    "    \"@hasanshahbaz19 @LFC My knowledge has decreased somewhat in the past few seasons\",\n",
    "    \"Report: Linked with #Everton and #Wolves, Italians set to sign £4.5m-rated winger\",\n",
    "    \"Am seeing tweets that there’s been a fall out @Everton between the money men... I’m presuming it’s just a quiet news day or some kopite with nothing better to do! @ALANMYERSMEDIA\",\n",
    "    \"@LFC @officialAL20 @IntChampionsCup @ManUtd Expect loads of excuses after tonight’s game\",\n",
    "    \"@MartinDiamond17 @azryahmad @Baren_D @Mathewlewis1997 @iamheinthu @DiMarzio @Alissonbecker @LFC @SkySportsNews @SkySport @OfficialASRoma I’m just fine I have your fanbase angry over stating facts should ask them hun. Xo\",\n",
    "    \"What a weekend of football results! @ManUtd @Glentoran @RangersFC & Hearts ????\",\n",
    "    \"@ChelseaFC For the first time in a long while, my heart was relaxed while watching Chelsea. Really enjoyed it today. Come on, CHELSEA!!!\",\n",
    "    \"@ChelseaFC @CesarAzpi What a fantastic signing worth every single penny ??\",\n",
    "    \"Pogba scores, Pogba assists. But tomorrow papers won't be telling you this, instead they will tell you how he'll end up at Juve because he's unhappy, frustrated, have grudges with Mourinho and so on and so forth #mufc\",\n",
    "    \"@WestHamUtd we need to keep @CH14_ and get @HirvingLozano70 to compliment\",\n",
    "    \"@kevdev9 @Everton Shouldn’t be happening! Needs to stay away with his venomous attitude until he is sold!\",\n",
    "    \"@brfootball @aguerosergiokun @ManCity What a genius. Pep taking winning mentality with him, conquering league after league. Baller\",\n",
    "    \"@HMZ0709  Can we get a RT for our #lfc Mo Salah Liverpool Enamel Pin Badge\"\n",
    "]"
   ]
  },
  {
   "cell_type": "markdown",
   "id": "264f005a",
   "metadata": {},
   "source": [
    "## Passo 7: Analisando os tweets"
   ]
  },
  {
   "cell_type": "code",
   "execution_count": null,
   "id": "f59c5c42",
   "metadata": {},
   "outputs": [],
   "source": [
    "for item in tweets:\n",
    "    doc = nlp(item)\n",
    "    input_polarity = doc._.blob.polarity\n",
    "    sentiment = {\n",
    "        'tweet': item,\n",
    "        'score': input_polarity\n",
    "    }\n",
    "    print(sentiment)"
   ]
  }
 ],
 "metadata": {},
 "nbformat": 4,
 "nbformat_minor": 5
}
